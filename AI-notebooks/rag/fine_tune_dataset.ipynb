{
 "cells": [
  {
   "cell_type": "markdown",
   "id": "255f87aa-3300-4c08-8aca-fc3c85a48ad8",
   "metadata": {},
   "source": [
    "\n",
    "- K. Saab et al., “Capabilities of Gemini Models in Medicine,” May 01, 2024, arXiv: arXiv:2404.18416. doi: 10.48550/arXiv.2404.18416.\n"
   ]
  },
  {
   "cell_type": "code",
   "execution_count": 224,
   "id": "79d17c3b-e32d-4884-8e78-2fc4f04d655c",
   "metadata": {},
   "outputs": [],
   "source": [
    "from datasets import load_dataset\n",
    "import pandas as pd\n"
   ]
  },
  {
   "cell_type": "code",
   "execution_count": 225,
   "id": "e727c15e-2baf-42c9-8580-2d9dd587613f",
   "metadata": {},
   "outputs": [],
   "source": [
    "dataset_medqa_cot = load_dataset(\"HPAI-BSC/medqa-cot\", split=\"train\") # cot digenerate dari mistral8x7B"
   ]
  },
  {
   "cell_type": "code",
   "execution_count": 226,
   "id": "b967df99-394b-44c0-8290-341f8f71b34c",
   "metadata": {},
   "outputs": [],
   "source": [
    "dataset_medication_qa = load_dataset(\"truehealth/medicationqa\", split=\"train\")"
   ]
  },
  {
   "cell_type": "code",
   "execution_count": 227,
   "id": "6b95dddd-d1ae-41ad-a7d1-d754bf7d0d29",
   "metadata": {},
   "outputs": [],
   "source": [
    "dataset_medquad = load_dataset(\"keivalya/MedQuad-MedicalQnADataset\", split=\"train\")"
   ]
  },
  {
   "cell_type": "code",
   "execution_count": 228,
   "id": "00d2bbc9-f207-441e-b40c-b4a8c64626ae",
   "metadata": {},
   "outputs": [],
   "source": [
    "liveqa = pd.read_csv(\"liveqa.csv\")"
   ]
  },
  {
   "cell_type": "code",
   "execution_count": 229,
   "id": "4955c157-e8a4-443c-b252-122256523e2f",
   "metadata": {},
   "outputs": [
    {
     "name": "stdout",
     "output_type": "stream",
     "text": [
      "654\n"
     ]
    },
    {
     "data": {
      "text/html": [
       "<div>\n",
       "<style scoped>\n",
       "    .dataframe tbody tr th:only-of-type {\n",
       "        vertical-align: middle;\n",
       "    }\n",
       "\n",
       "    .dataframe tbody tr th {\n",
       "        vertical-align: top;\n",
       "    }\n",
       "\n",
       "    .dataframe thead th {\n",
       "        text-align: right;\n",
       "    }\n",
       "</style>\n",
       "<table border=\"1\" class=\"dataframe\">\n",
       "  <thead>\n",
       "    <tr style=\"text-align: right;\">\n",
       "      <th></th>\n",
       "      <th>Unnamed: 0</th>\n",
       "      <th>question</th>\n",
       "      <th>answer</th>\n",
       "    </tr>\n",
       "  </thead>\n",
       "  <tbody>\n",
       "    <tr>\n",
       "      <th>0</th>\n",
       "      <td>0</td>\n",
       "      <td>Literature on Cardiac amyloidosis.  Please let...</td>\n",
       "      <td>Cardiac amyloidosis is a disorder caused by de...</td>\n",
       "    </tr>\n",
       "    <tr>\n",
       "      <th>1</th>\n",
       "      <td>1</td>\n",
       "      <td>Migraine seems to be a spectrum of conditions ...</td>\n",
       "      <td>There is no specific cure for migraine headach...</td>\n",
       "    </tr>\n",
       "    <tr>\n",
       "      <th>2</th>\n",
       "      <td>2</td>\n",
       "      <td>DO I USE PYRIDOXINE TABLETS EVEN IF IM PREGNANT?</td>\n",
       "      <td>Before taking pyridoxine,        tell your doc...</td>\n",
       "    </tr>\n",
       "    <tr>\n",
       "      <th>3</th>\n",
       "      <td>3</td>\n",
       "      <td>i have lymphoma what causes cramp after chemo ...</td>\n",
       "      <td>Muscle cramps are common and often occur when ...</td>\n",
       "    </tr>\n",
       "    <tr>\n",
       "      <th>4</th>\n",
       "      <td>4</td>\n",
       "      <td>I wonder of new research and testing on macula...</td>\n",
       "      <td>These resources address the diagnosis or manag...</td>\n",
       "    </tr>\n",
       "  </tbody>\n",
       "</table>\n",
       "</div>"
      ],
      "text/plain": [
       "   Unnamed: 0                                           question  \\\n",
       "0           0  Literature on Cardiac amyloidosis.  Please let...   \n",
       "1           1  Migraine seems to be a spectrum of conditions ...   \n",
       "2           2   DO I USE PYRIDOXINE TABLETS EVEN IF IM PREGNANT?   \n",
       "3           3  i have lymphoma what causes cramp after chemo ...   \n",
       "4           4  I wonder of new research and testing on macula...   \n",
       "\n",
       "                                              answer  \n",
       "0  Cardiac amyloidosis is a disorder caused by de...  \n",
       "1  There is no specific cure for migraine headach...  \n",
       "2  Before taking pyridoxine,        tell your doc...  \n",
       "3  Muscle cramps are common and often occur when ...  \n",
       "4  These resources address the diagnosis or manag...  "
      ]
     },
     "execution_count": 229,
     "metadata": {},
     "output_type": "execute_result"
    }
   ],
   "source": [
    "print(len(liveqa))\n",
    "liveqa.head()"
   ]
  },
  {
   "cell_type": "code",
   "execution_count": 230,
   "id": "ff7bf5b2-cc60-4ec8-b592-a370c1896fee",
   "metadata": {},
   "outputs": [
    {
     "name": "stdout",
     "output_type": "stream",
     "text": [
      "16407\n"
     ]
    },
    {
     "data": {
      "text/plain": [
       "{'qtype': ['susceptibility', 'symptoms', 'susceptibility'],\n",
       " 'Question': ['Who is at risk for Lymphocytic Choriomeningitis (LCM)? ?',\n",
       "  'What are the symptoms of Lymphocytic Choriomeningitis (LCM) ?',\n",
       "  'Who is at risk for Lymphocytic Choriomeningitis (LCM)? ?'],\n",
       " 'Answer': ['LCMV infections can occur after exposure to fresh urine, droppings, saliva, or nesting materials from infected rodents.  Transmission may also occur when these materials are directly introduced into broken skin, the nose, the eyes, or the mouth, or presumably, via the bite of an infected rodent. Person-to-person transmission has not been reported, with the exception of vertical transmission from infected mother to fetus, and rarely, through organ transplantation.',\n",
       "  'LCMV is most commonly recognized as causing neurological disease, as its name implies, though infection without symptoms or mild febrile illnesses are more common clinical manifestations. \\n                \\nFor infected persons who do become ill, onset of symptoms usually occurs 8-13 days after exposure to the virus as part of a biphasic febrile illness. This initial phase, which may last as long as a week, typically begins with any or all of the following symptoms: fever, malaise, lack of appetite, muscle aches, headache, nausea, and vomiting. Other symptoms appearing less frequently include sore throat, cough, joint pain, chest pain, testicular pain, and parotid (salivary gland) pain. \\n                \\nFollowing a few days of recovery, a second phase of illness may occur. Symptoms may consist of meningitis (fever, headache, stiff neck, etc.), encephalitis (drowsiness, confusion, sensory disturbances, and/or motor abnormalities, such as paralysis), or meningoencephalitis (inflammation of both the brain and meninges). LCMV has also been known to cause acute hydrocephalus (increased fluid on the brain), which often requires surgical shunting to relieve increased intracranial pressure. In rare instances, infection results in myelitis (inflammation of the spinal cord) and presents with symptoms such as muscle weakness, paralysis, or changes in body sensation. An association between LCMV infection and myocarditis (inflammation of the heart muscles) has been suggested. \\n                \\nPrevious observations show that most patients who develop aseptic meningitis or encephalitis due to LCMV survive. No chronic infection has been described in humans, and after the acute phase of illness, the virus is cleared from the body. However, as in all infections of the central nervous system, particularly encephalitis, temporary or permanent neurological damage is possible. Nerve deafness and arthritis have been reported. \\n                \\nWomen who become infected with LCMV during pregnancy may pass the infection on to the fetus. Infections occurring during the first trimester may result in fetal death and pregnancy termination, while in the second and third trimesters, birth defects can develop. Infants infected In utero can have many serious and permanent birth defects, including vision problems, mental retardation, and hydrocephaly (water on the brain). Pregnant women may recall a flu-like illness during pregnancy, or may not recall any illness. \\n                \\nLCM is usually not fatal. In general, mortality is less than 1%.',\n",
       "  'Individuals of all ages who come into contact with urine, feces, saliva, or blood of wild mice are potentially at risk for infection. Owners of pet mice or hamsters may be at risk for infection if these animals originate from colonies that were contaminated with LCMV, or if their animals are infected from other wild mice. Human fetuses are at risk of acquiring infection vertically from an infected mother. \\n                \\nLaboratory workers who work with the virus or handle infected animals are also at risk. However, this risk can be minimized by utilizing animals from sources that regularly test for the virus, wearing proper protective laboratory gear, and following appropriate safety precautions.']}"
      ]
     },
     "execution_count": 230,
     "metadata": {},
     "output_type": "execute_result"
    }
   ],
   "source": [
    "print(len(dataset_medquad))\n",
    "dataset_medquad[:3]"
   ]
  },
  {
   "cell_type": "code",
   "execution_count": 231,
   "id": "fe0b14f9-f9ce-450e-98c1-a807e267509d",
   "metadata": {},
   "outputs": [
    {
     "name": "stdout",
     "output_type": "stream",
     "text": [
      "690\n"
     ]
    },
    {
     "data": {
      "text/plain": [
       "{'Question': ['how does rivatigmine and otc sleep medicine interact',\n",
       "  'how does valium affect the brain',\n",
       "  'what is morphine'],\n",
       " 'Focus (Drug)': ['rivastigmine', 'Valium', 'morphine'],\n",
       " 'Question Type': ['Interaction', 'Action', 'Information'],\n",
       " 'Answer': [\"tell your doctor and pharmacist what prescription and nonprescription medications, vitamins, nutritional supplements, and herbal products you are taking or plan to take. Be sure to mention any of the following: antihistamines; aspirin and other nonsteroidal anti-inflammatory medications (NSAIDs) such as ibuprofen (Advil, Motrin) and naproxen (Aleve, Naprosyn); bethanechol (Duvoid, Urecholine); ipratropium (Atrovent, in Combivent, DuoNeb); and medications for Alzheimer's disease, glaucoma, irritable bowel disease, motion sickness, ulcers, or urinary problems. Your doctor may need to change the doses of your medications or monitor you carefully for side effects.\",\n",
       "  'Diazepam is a benzodiazepine that exerts anxiolytic, sedative, muscle-relaxant, anticonvulsant and amnestic effects. Most of these effects are thought to result from a facilitation of the action of gamma aminobutyric acid (GABA), an inhibitory neurotransmitter in the central nervous system.',\n",
       "  'Morphine is a pain medication of the opiate family which is found naturally in a number of plants and animals.[5][7] It acts directly on the central nervous system (CNS) to decrease the feeling of pain.'],\n",
       " 'Section Title': ['What special precautions should I follow?',\n",
       "  'CLINICAL PHARMACOLOGY',\n",
       "  None],\n",
       " 'URL': ['https://medlineplus.gov/druginfo/meds/a602009.html',\n",
       "  'https://dailymed.nlm.nih.gov/dailymed/drugInfo.cfm?setid=554baee5-b171-4452-a50a-41a0946f956c',\n",
       "  'https://en.wikipedia.org/wiki/Morphine']}"
      ]
     },
     "execution_count": 231,
     "metadata": {},
     "output_type": "execute_result"
    }
   ],
   "source": [
    "print(len(dataset_medication_qa))\n",
    "dataset_medication_qa[:3]"
   ]
  },
  {
   "cell_type": "code",
   "execution_count": 232,
   "id": "0382e0dd-a669-40b2-94c0-3bf35bbf89e8",
   "metadata": {},
   "outputs": [
    {
     "name": "stdout",
     "output_type": "stream",
     "text": [
      "10178\n"
     ]
    },
    {
     "data": {
      "text/plain": [
       "{'question': [\"For the following multiple-choice question, select one correct answer. Let's think step by step. Question: A 23-year-old pregnant woman at 22 weeks gestation presents with burning upon urination. She states it started 1 day ago and has been worsening despite drinking more water and taking cranberry extract. She otherwise feels well and is followed by a doctor for her pregnancy. Her temperature is 97.7°F (36.5°C), blood pressure is 122/77 mmHg, pulse is 80/min, respirations are 19/min, and oxygen saturation is 98% on room air. Physical exam is notable for an absence of costovertebral angle tenderness and a gravid uterus. Which of the following is the best treatment for this patient?\\nChoices:\\nA. Ampicillin\\nB. Ceftriaxone\\nC. Doxycycline\\nD. Nitrofurantoin\",\n",
       "  'Presented with a medical question accompanied by multiple choices, your objective is to identify the correct response employing a systematic strategy. Start by summarizing the essence of the query, then meticulously assess each option in isolation. Conclude by employing a logical and sequential reasoning process to determine the correct answer. Clarify the selected option at the end. Question: A 3-month-old baby died suddenly at night while asleep. His mother noticed that he had died only after she awoke in the morning. No cause of death was determined based on the autopsy. Which of the following precautions could have prevented the death of the baby?\\nChoices:\\nA. Placing the infant in a supine position on a firm mattress while sleeping\\nB. Keeping the infant covered and maintaining a high room temperature\\nC. Application of a device to maintain the sleeping position\\nD. Avoiding pacifier use during sleep',\n",
       "  \"Confronted with a medical inquiry alongside multiple options, your mission is to navigate them systematically to provide an accurate solution. Begin by encapsulating the essence of the question, meticulously analyze each option independently, and conclude by applying a logical thought process to select the correct answer and select the final option. Question: A mother brings her 3-week-old infant to the pediatrician's office because she is concerned about his feeding habits. He was born without complications and has not had any medical problems up until this time. However, for the past 4 days, he has been fussy, is regurgitating all of his feeds, and his vomit is yellow in color. On physical exam, the child's abdomen is minimally distended but no other abnormalities are appreciated. Which of the following embryologic errors could account for this presentation?\\nChoices:\\nA. Abnormal migration of ventral pancreatic bud\\nB. Complete failure of proximal duodenum to recanalize\\nC. Abnormal hypertrophy of the pylorus\\nD. Failure of lateral body folds to move ventrally and fuse in the midline\"],\n",
       " 'dataset_name': ['medqa_mixtral_cot',\n",
       "  'medqa_mixtral_cot',\n",
       "  'medqa_mixtral_cot'],\n",
       " 'system_prompt': ['You are an expert medical assistant named Aloe, developed by the High Performance Artificial Intelligence Group at Barcelona Supercomputing Center(BSC). You are to be a helpful, respectful, and honest assistant.',\n",
       "  'You are an expert medical assistant named Aloe, developed by the High Performance Artificial Intelligence Group at Barcelona Supercomputing Center(BSC). You are to be a helpful, respectful, and honest assistant.',\n",
       "  'You are an expert medical assistant named Aloe, developed by the High Performance Artificial Intelligence Group at Barcelona Supercomputing Center(BSC). You are to be a helpful, respectful, and honest assistant.'],\n",
       " 'response': [\"The question presents a 23-year-old pregnant woman at 22 weeks gestation with symptoms of a urinary tract infection (UTI). She has burning upon urination, which started 1 day ago and worsened despite increasing water intake and taking cranberry extract. Her vital signs and physical exam are within normal ranges, with the absence of costovertebral angle tenderness and a gravid uterus. The task is to determine the best treatment for this patient.\\nLet's break down the options:\\nA. Ampicillin: Ampicillin is an antibiotic that can be used to treat UTIs. However, it is not typically the first choice for treating UTIs in pregnant women due to the availability of safer options.\\nB. Ceftriaxone: Ceftriaxone is another antibiotic that can be used to treat UTIs. Like Ampicillin, it is not usually the first choice for treating UTIs in pregnant women due to the availability of safer alternatives.\\nC. Doxycycline: Doxycycline is an antibiotic that is used to treat a variety of bacterial infections. However, it is contraindicated in pregnancy due to the risk of teratogenicity and adverse effects on fetal bone and teeth development. Therefore, it is not a suitable choice for this patient.\\nD. Nitrofurantoin: Nitrofurantoin is an antibiotic that is considered safe and effective for the treatment of UTIs during pregnancy, particularly after the first trimester. It is the preferred first-line treatment for UTIs in pregnant women due to its safety profile.\\nGiven the patient's pregnancy and the safety profile of the available treatment options, the best treatment for this patient is Nitrofurantoin. This choice is supported by the patient's presentation, the absence of contraindications, and the safety and effectiveness of Nitrofurantoin in treating UTIs in pregnant women.\\nAnswer: D.\",\n",
       "  \"The question presents a tragic case of a 3-month-old baby who died suddenly at night while asleep. No cause of death was determined based on the autopsy. The task is to determine which precaution could have prevented the death of the baby.\\nLet's break down the options:\\nOption A: Placing the infant in a supine position on a firm mattress while sleeping. This is a major recommendation to prevent Sudden Infant Death Syndrome (SIDS), a condition where infants unexpectedly die in their sleep with no cause found on autopsy. Placing infants in a supine position (on their backs) to sleep on a firm mattress reduces the risk of suffocation and aids in maintaining an open airway during sleep.\\nOption B: Keeping the infant covered and maintaining a high room temperature. This is not an evidence-based method for reducing the risk of SIDS. In fact, high room temperatures may actually increase the risk of SIDS.\\nOption C: Application of a device to maintain the sleeping position. The use of positional devices is not recommended due to potential risks, and is not an evidence-based method for reducing the risk of SIDS.\\nOption D: Avoiding pacifier use during sleep. Pacifier use during sleep has been associated with a reduced risk of SIDS, thus avoiding it would not be a preventative measure.\\nGiven the sudden and unexplained death of the baby, the best precaution to potentially prevent such an unfortunate event is to place the infant in a supine position on a firm mattress while sleeping. This choice is supported by the presentation and the evidence-based recommendations for reducing the risk of SIDS. Therefore, the correct answer is  A. Placing the infant in a supine position on a firm mattress while sleeping.\\nAnswer: A.\",\n",
       "  \"The question presents a case of a 3-week-old infant who is being seen by the pediatrician due to concerns about his feeding habits. The infant was born without complications and has not had any medical problems up until this time. However, for the past 4 days, the infant has been fussy, regurgitating all of his feeds, and the vomit is yellow in color. On physical examination, the child's abdomen is minimally distended, but no other abnormalities are found. The infant's symptoms, including fussiness, regurgitation of all feeds, and yellow vomit, suggest a problem with the digestive system. The fact that the vomit is yellow indicates that it contains bile, which is produced by the liver and stored in the gallbladder. Bile is normally released into the small intestine to aid in digestion. However, in this case, it is being regurgitated, which suggests that there may be an obstruction in the upper gastrointestinal tract.\\nThe possible embryologic errors that could account for this presentation are:\\nA. Abnormal migration of ventral pancreatic bud: During embryonic development, the pancreas forms from two buds that arise from the foregut. The ventral bud migrates to fuse with the dorsal bud, forming the pancreas. If the ventral bud does not migrate properly, it can result in pancreatic tissue being located outside of the pancreas, which can cause obstruction of the gastrointestinal tract.\\nB. Complete failure of proximal duodenum to recanalize: During embryonic development, the lumen of the gastrointestinal tract is initially solid, but it later becomes hollow through a process called recanalization. If the proximal duodenum fails to recanalize completely, it can result in an obstruction of the gastrointestinal tract.\\nC. Abnormal hypertrophy of the pylorus: The pylorus is the muscular valve that connects the stomach to the small intestine. If the pylorus becomes abnormally thickened, it can cause an obstruction of the gastrointestinal tract.\\nD. Failure of lateral body folds to move ventrally and fuse in the midline: During embryonic development, the lateral body folds move ventrally and fuse in the midline to form the anterior abdominal wall. If this process fails, it can result in an omphalocele, a congenital defect in which the intestines or other abdominal organs protrude through the navel.\\nBased on the information provided, the most likely embryologic error that could account for this presentation is abnormal hypertrophy of the pylorus (option C). This is because the infant's symptoms suggest an obstruction in the upper gastrointestinal tract, and abnormal thickening of the pylorus can cause such an obstruction.\\nAnswer: C.\"]}"
      ]
     },
     "execution_count": 232,
     "metadata": {},
     "output_type": "execute_result"
    }
   ],
   "source": [
    "print(len(dataset_medqa_cot))\n",
    "dataset_medqa_cot[:3]"
   ]
  },
  {
   "cell_type": "code",
   "execution_count": null,
   "id": "37a6081d-c6b2-4c4d-9ade-61816ce500b1",
   "metadata": {},
   "outputs": [],
   "source": []
  },
  {
   "cell_type": "code",
   "execution_count": 233,
   "id": "6d01013e-8cf6-468c-a9de-6dd3d83f9cd9",
   "metadata": {},
   "outputs": [],
   "source": [
    "# Gabungin"
   ]
  },
  {
   "cell_type": "code",
   "execution_count": 234,
   "id": "da6d26cc-22f1-439a-9193-65d12606773c",
   "metadata": {},
   "outputs": [],
   "source": [
    "dataset_medqa_cot  = dataset_medqa_cot.to_pandas()\n",
    "dataset_medqa_cot.rename(columns = {'response':'answer'}, inplace = True)\n"
   ]
  },
  {
   "cell_type": "code",
   "execution_count": 235,
   "id": "0198c11e-6b12-450d-a5b0-9bde9cb82291",
   "metadata": {},
   "outputs": [],
   "source": [
    "dataset_medication_qa = dataset_medication_qa.to_pandas()\n",
    "dataset_medication_qa.rename(columns = {'Question':'question', 'Answer': 'answer'}, inplace = True)\n"
   ]
  },
  {
   "cell_type": "code",
   "execution_count": 236,
   "id": "db09f4ca-528f-43a8-85cf-01ca33a35255",
   "metadata": {},
   "outputs": [],
   "source": [
    "dataset_medquad = dataset_medquad.to_pandas()\n",
    "dataset_medquad.rename(columns = {'Question':'question', 'Answer': 'answer'}, inplace = True)\n"
   ]
  },
  {
   "cell_type": "code",
   "execution_count": null,
   "id": "472cffc7-b9e2-4cc9-9a65-813a0ac87e31",
   "metadata": {},
   "outputs": [],
   "source": []
  },
  {
   "cell_type": "code",
   "execution_count": 237,
   "id": "d720a64a-fbda-4daa-9757-5b7502ebb8f7",
   "metadata": {},
   "outputs": [],
   "source": [
    "merged_df = pd.DataFrame()"
   ]
  },
  {
   "cell_type": "code",
   "execution_count": 238,
   "id": "6f5fd3d0-da21-42b2-8f91-086cad01eb50",
   "metadata": {},
   "outputs": [
    {
     "data": {
      "text/html": [
       "<div>\n",
       "<style scoped>\n",
       "    .dataframe tbody tr th:only-of-type {\n",
       "        vertical-align: middle;\n",
       "    }\n",
       "\n",
       "    .dataframe tbody tr th {\n",
       "        vertical-align: top;\n",
       "    }\n",
       "\n",
       "    .dataframe thead th {\n",
       "        text-align: right;\n",
       "    }\n",
       "</style>\n",
       "<table border=\"1\" class=\"dataframe\">\n",
       "  <thead>\n",
       "    <tr style=\"text-align: right;\">\n",
       "      <th></th>\n",
       "      <th>Unnamed: 0</th>\n",
       "      <th>question</th>\n",
       "      <th>answer</th>\n",
       "    </tr>\n",
       "  </thead>\n",
       "  <tbody>\n",
       "    <tr>\n",
       "      <th>0</th>\n",
       "      <td>0</td>\n",
       "      <td>Literature on Cardiac amyloidosis.  Please let...</td>\n",
       "      <td>Cardiac amyloidosis is a disorder caused by de...</td>\n",
       "    </tr>\n",
       "    <tr>\n",
       "      <th>1</th>\n",
       "      <td>1</td>\n",
       "      <td>Migraine seems to be a spectrum of conditions ...</td>\n",
       "      <td>There is no specific cure for migraine headach...</td>\n",
       "    </tr>\n",
       "    <tr>\n",
       "      <th>2</th>\n",
       "      <td>2</td>\n",
       "      <td>DO I USE PYRIDOXINE TABLETS EVEN IF IM PREGNANT?</td>\n",
       "      <td>Before taking pyridoxine,        tell your doc...</td>\n",
       "    </tr>\n",
       "    <tr>\n",
       "      <th>3</th>\n",
       "      <td>3</td>\n",
       "      <td>i have lymphoma what causes cramp after chemo ...</td>\n",
       "      <td>Muscle cramps are common and often occur when ...</td>\n",
       "    </tr>\n",
       "    <tr>\n",
       "      <th>4</th>\n",
       "      <td>4</td>\n",
       "      <td>I wonder of new research and testing on macula...</td>\n",
       "      <td>These resources address the diagnosis or manag...</td>\n",
       "    </tr>\n",
       "  </tbody>\n",
       "</table>\n",
       "</div>"
      ],
      "text/plain": [
       "   Unnamed: 0                                           question  \\\n",
       "0           0  Literature on Cardiac amyloidosis.  Please let...   \n",
       "1           1  Migraine seems to be a spectrum of conditions ...   \n",
       "2           2   DO I USE PYRIDOXINE TABLETS EVEN IF IM PREGNANT?   \n",
       "3           3  i have lymphoma what causes cramp after chemo ...   \n",
       "4           4  I wonder of new research and testing on macula...   \n",
       "\n",
       "                                              answer  \n",
       "0  Cardiac amyloidosis is a disorder caused by de...  \n",
       "1  There is no specific cure for migraine headach...  \n",
       "2  Before taking pyridoxine,        tell your doc...  \n",
       "3  Muscle cramps are common and often occur when ...  \n",
       "4  These resources address the diagnosis or manag...  "
      ]
     },
     "execution_count": 238,
     "metadata": {},
     "output_type": "execute_result"
    }
   ],
   "source": [
    "merged_df = pd.concat([merged_df, liveqa], ignore_index=True)\n",
    "merged_df.head()"
   ]
  },
  {
   "cell_type": "code",
   "execution_count": 239,
   "id": "6a395058-798d-4885-b214-c494bdc45054",
   "metadata": {},
   "outputs": [
    {
     "data": {
      "text/html": [
       "<div>\n",
       "<style scoped>\n",
       "    .dataframe tbody tr th:only-of-type {\n",
       "        vertical-align: middle;\n",
       "    }\n",
       "\n",
       "    .dataframe tbody tr th {\n",
       "        vertical-align: top;\n",
       "    }\n",
       "\n",
       "    .dataframe thead th {\n",
       "        text-align: right;\n",
       "    }\n",
       "</style>\n",
       "<table border=\"1\" class=\"dataframe\">\n",
       "  <thead>\n",
       "    <tr style=\"text-align: right;\">\n",
       "      <th></th>\n",
       "      <th>Unnamed: 0</th>\n",
       "      <th>question</th>\n",
       "      <th>answer</th>\n",
       "      <th>dataset_name</th>\n",
       "      <th>system_prompt</th>\n",
       "    </tr>\n",
       "  </thead>\n",
       "  <tbody>\n",
       "    <tr>\n",
       "      <th>0</th>\n",
       "      <td>0.0</td>\n",
       "      <td>Literature on Cardiac amyloidosis.  Please let...</td>\n",
       "      <td>Cardiac amyloidosis is a disorder caused by de...</td>\n",
       "      <td>NaN</td>\n",
       "      <td>NaN</td>\n",
       "    </tr>\n",
       "    <tr>\n",
       "      <th>1</th>\n",
       "      <td>1.0</td>\n",
       "      <td>Migraine seems to be a spectrum of conditions ...</td>\n",
       "      <td>There is no specific cure for migraine headach...</td>\n",
       "      <td>NaN</td>\n",
       "      <td>NaN</td>\n",
       "    </tr>\n",
       "    <tr>\n",
       "      <th>2</th>\n",
       "      <td>2.0</td>\n",
       "      <td>DO I USE PYRIDOXINE TABLETS EVEN IF IM PREGNANT?</td>\n",
       "      <td>Before taking pyridoxine,        tell your doc...</td>\n",
       "      <td>NaN</td>\n",
       "      <td>NaN</td>\n",
       "    </tr>\n",
       "    <tr>\n",
       "      <th>3</th>\n",
       "      <td>3.0</td>\n",
       "      <td>i have lymphoma what causes cramp after chemo ...</td>\n",
       "      <td>Muscle cramps are common and often occur when ...</td>\n",
       "      <td>NaN</td>\n",
       "      <td>NaN</td>\n",
       "    </tr>\n",
       "    <tr>\n",
       "      <th>4</th>\n",
       "      <td>4.0</td>\n",
       "      <td>I wonder of new research and testing on macula...</td>\n",
       "      <td>These resources address the diagnosis or manag...</td>\n",
       "      <td>NaN</td>\n",
       "      <td>NaN</td>\n",
       "    </tr>\n",
       "  </tbody>\n",
       "</table>\n",
       "</div>"
      ],
      "text/plain": [
       "   Unnamed: 0                                           question  \\\n",
       "0         0.0  Literature on Cardiac amyloidosis.  Please let...   \n",
       "1         1.0  Migraine seems to be a spectrum of conditions ...   \n",
       "2         2.0   DO I USE PYRIDOXINE TABLETS EVEN IF IM PREGNANT?   \n",
       "3         3.0  i have lymphoma what causes cramp after chemo ...   \n",
       "4         4.0  I wonder of new research and testing on macula...   \n",
       "\n",
       "                                              answer dataset_name  \\\n",
       "0  Cardiac amyloidosis is a disorder caused by de...          NaN   \n",
       "1  There is no specific cure for migraine headach...          NaN   \n",
       "2  Before taking pyridoxine,        tell your doc...          NaN   \n",
       "3  Muscle cramps are common and often occur when ...          NaN   \n",
       "4  These resources address the diagnosis or manag...          NaN   \n",
       "\n",
       "  system_prompt  \n",
       "0           NaN  \n",
       "1           NaN  \n",
       "2           NaN  \n",
       "3           NaN  \n",
       "4           NaN  "
      ]
     },
     "execution_count": 239,
     "metadata": {},
     "output_type": "execute_result"
    }
   ],
   "source": [
    "merged_df = pd.concat([merged_df, dataset_medqa_cot], ignore_index=True)\n",
    "merged_df.head()"
   ]
  },
  {
   "cell_type": "code",
   "execution_count": 240,
   "id": "fbd1a583-3e1d-4fd5-8faf-6a73781eff2e",
   "metadata": {},
   "outputs": [
    {
     "data": {
      "text/html": [
       "<div>\n",
       "<style scoped>\n",
       "    .dataframe tbody tr th:only-of-type {\n",
       "        vertical-align: middle;\n",
       "    }\n",
       "\n",
       "    .dataframe tbody tr th {\n",
       "        vertical-align: top;\n",
       "    }\n",
       "\n",
       "    .dataframe thead th {\n",
       "        text-align: right;\n",
       "    }\n",
       "</style>\n",
       "<table border=\"1\" class=\"dataframe\">\n",
       "  <thead>\n",
       "    <tr style=\"text-align: right;\">\n",
       "      <th></th>\n",
       "      <th>Unnamed: 0</th>\n",
       "      <th>question</th>\n",
       "      <th>answer</th>\n",
       "      <th>dataset_name</th>\n",
       "      <th>system_prompt</th>\n",
       "      <th>Focus (Drug)</th>\n",
       "      <th>Question Type</th>\n",
       "      <th>Section Title</th>\n",
       "      <th>URL</th>\n",
       "    </tr>\n",
       "  </thead>\n",
       "  <tbody>\n",
       "    <tr>\n",
       "      <th>0</th>\n",
       "      <td>0.0</td>\n",
       "      <td>Literature on Cardiac amyloidosis.  Please let...</td>\n",
       "      <td>Cardiac amyloidosis is a disorder caused by de...</td>\n",
       "      <td>NaN</td>\n",
       "      <td>NaN</td>\n",
       "      <td>NaN</td>\n",
       "      <td>NaN</td>\n",
       "      <td>NaN</td>\n",
       "      <td>NaN</td>\n",
       "    </tr>\n",
       "    <tr>\n",
       "      <th>1</th>\n",
       "      <td>1.0</td>\n",
       "      <td>Migraine seems to be a spectrum of conditions ...</td>\n",
       "      <td>There is no specific cure for migraine headach...</td>\n",
       "      <td>NaN</td>\n",
       "      <td>NaN</td>\n",
       "      <td>NaN</td>\n",
       "      <td>NaN</td>\n",
       "      <td>NaN</td>\n",
       "      <td>NaN</td>\n",
       "    </tr>\n",
       "    <tr>\n",
       "      <th>2</th>\n",
       "      <td>2.0</td>\n",
       "      <td>DO I USE PYRIDOXINE TABLETS EVEN IF IM PREGNANT?</td>\n",
       "      <td>Before taking pyridoxine,        tell your doc...</td>\n",
       "      <td>NaN</td>\n",
       "      <td>NaN</td>\n",
       "      <td>NaN</td>\n",
       "      <td>NaN</td>\n",
       "      <td>NaN</td>\n",
       "      <td>NaN</td>\n",
       "    </tr>\n",
       "    <tr>\n",
       "      <th>3</th>\n",
       "      <td>3.0</td>\n",
       "      <td>i have lymphoma what causes cramp after chemo ...</td>\n",
       "      <td>Muscle cramps are common and often occur when ...</td>\n",
       "      <td>NaN</td>\n",
       "      <td>NaN</td>\n",
       "      <td>NaN</td>\n",
       "      <td>NaN</td>\n",
       "      <td>NaN</td>\n",
       "      <td>NaN</td>\n",
       "    </tr>\n",
       "    <tr>\n",
       "      <th>4</th>\n",
       "      <td>4.0</td>\n",
       "      <td>I wonder of new research and testing on macula...</td>\n",
       "      <td>These resources address the diagnosis or manag...</td>\n",
       "      <td>NaN</td>\n",
       "      <td>NaN</td>\n",
       "      <td>NaN</td>\n",
       "      <td>NaN</td>\n",
       "      <td>NaN</td>\n",
       "      <td>NaN</td>\n",
       "    </tr>\n",
       "  </tbody>\n",
       "</table>\n",
       "</div>"
      ],
      "text/plain": [
       "   Unnamed: 0                                           question  \\\n",
       "0         0.0  Literature on Cardiac amyloidosis.  Please let...   \n",
       "1         1.0  Migraine seems to be a spectrum of conditions ...   \n",
       "2         2.0   DO I USE PYRIDOXINE TABLETS EVEN IF IM PREGNANT?   \n",
       "3         3.0  i have lymphoma what causes cramp after chemo ...   \n",
       "4         4.0  I wonder of new research and testing on macula...   \n",
       "\n",
       "                                              answer dataset_name  \\\n",
       "0  Cardiac amyloidosis is a disorder caused by de...          NaN   \n",
       "1  There is no specific cure for migraine headach...          NaN   \n",
       "2  Before taking pyridoxine,        tell your doc...          NaN   \n",
       "3  Muscle cramps are common and often occur when ...          NaN   \n",
       "4  These resources address the diagnosis or manag...          NaN   \n",
       "\n",
       "  system_prompt Focus (Drug) Question Type Section Title  URL  \n",
       "0           NaN          NaN           NaN           NaN  NaN  \n",
       "1           NaN          NaN           NaN           NaN  NaN  \n",
       "2           NaN          NaN           NaN           NaN  NaN  \n",
       "3           NaN          NaN           NaN           NaN  NaN  \n",
       "4           NaN          NaN           NaN           NaN  NaN  "
      ]
     },
     "execution_count": 240,
     "metadata": {},
     "output_type": "execute_result"
    }
   ],
   "source": [
    "merged_df = pd.concat([merged_df, dataset_medication_qa], ignore_index=True)\n",
    "merged_df.head()"
   ]
  },
  {
   "cell_type": "code",
   "execution_count": 241,
   "id": "a4f99da6-2aee-44af-bd38-8070934993be",
   "metadata": {},
   "outputs": [
    {
     "data": {
      "text/html": [
       "<div>\n",
       "<style scoped>\n",
       "    .dataframe tbody tr th:only-of-type {\n",
       "        vertical-align: middle;\n",
       "    }\n",
       "\n",
       "    .dataframe tbody tr th {\n",
       "        vertical-align: top;\n",
       "    }\n",
       "\n",
       "    .dataframe thead th {\n",
       "        text-align: right;\n",
       "    }\n",
       "</style>\n",
       "<table border=\"1\" class=\"dataframe\">\n",
       "  <thead>\n",
       "    <tr style=\"text-align: right;\">\n",
       "      <th></th>\n",
       "      <th>Unnamed: 0</th>\n",
       "      <th>question</th>\n",
       "      <th>answer</th>\n",
       "      <th>dataset_name</th>\n",
       "      <th>system_prompt</th>\n",
       "      <th>Focus (Drug)</th>\n",
       "      <th>Question Type</th>\n",
       "      <th>Section Title</th>\n",
       "      <th>URL</th>\n",
       "      <th>qtype</th>\n",
       "    </tr>\n",
       "  </thead>\n",
       "  <tbody>\n",
       "    <tr>\n",
       "      <th>0</th>\n",
       "      <td>0.0</td>\n",
       "      <td>Literature on Cardiac amyloidosis.  Please let...</td>\n",
       "      <td>Cardiac amyloidosis is a disorder caused by de...</td>\n",
       "      <td>NaN</td>\n",
       "      <td>NaN</td>\n",
       "      <td>NaN</td>\n",
       "      <td>NaN</td>\n",
       "      <td>NaN</td>\n",
       "      <td>NaN</td>\n",
       "      <td>NaN</td>\n",
       "    </tr>\n",
       "    <tr>\n",
       "      <th>1</th>\n",
       "      <td>1.0</td>\n",
       "      <td>Migraine seems to be a spectrum of conditions ...</td>\n",
       "      <td>There is no specific cure for migraine headach...</td>\n",
       "      <td>NaN</td>\n",
       "      <td>NaN</td>\n",
       "      <td>NaN</td>\n",
       "      <td>NaN</td>\n",
       "      <td>NaN</td>\n",
       "      <td>NaN</td>\n",
       "      <td>NaN</td>\n",
       "    </tr>\n",
       "    <tr>\n",
       "      <th>2</th>\n",
       "      <td>2.0</td>\n",
       "      <td>DO I USE PYRIDOXINE TABLETS EVEN IF IM PREGNANT?</td>\n",
       "      <td>Before taking pyridoxine,        tell your doc...</td>\n",
       "      <td>NaN</td>\n",
       "      <td>NaN</td>\n",
       "      <td>NaN</td>\n",
       "      <td>NaN</td>\n",
       "      <td>NaN</td>\n",
       "      <td>NaN</td>\n",
       "      <td>NaN</td>\n",
       "    </tr>\n",
       "    <tr>\n",
       "      <th>3</th>\n",
       "      <td>3.0</td>\n",
       "      <td>i have lymphoma what causes cramp after chemo ...</td>\n",
       "      <td>Muscle cramps are common and often occur when ...</td>\n",
       "      <td>NaN</td>\n",
       "      <td>NaN</td>\n",
       "      <td>NaN</td>\n",
       "      <td>NaN</td>\n",
       "      <td>NaN</td>\n",
       "      <td>NaN</td>\n",
       "      <td>NaN</td>\n",
       "    </tr>\n",
       "    <tr>\n",
       "      <th>4</th>\n",
       "      <td>4.0</td>\n",
       "      <td>I wonder of new research and testing on macula...</td>\n",
       "      <td>These resources address the diagnosis or manag...</td>\n",
       "      <td>NaN</td>\n",
       "      <td>NaN</td>\n",
       "      <td>NaN</td>\n",
       "      <td>NaN</td>\n",
       "      <td>NaN</td>\n",
       "      <td>NaN</td>\n",
       "      <td>NaN</td>\n",
       "    </tr>\n",
       "  </tbody>\n",
       "</table>\n",
       "</div>"
      ],
      "text/plain": [
       "   Unnamed: 0                                           question  \\\n",
       "0         0.0  Literature on Cardiac amyloidosis.  Please let...   \n",
       "1         1.0  Migraine seems to be a spectrum of conditions ...   \n",
       "2         2.0   DO I USE PYRIDOXINE TABLETS EVEN IF IM PREGNANT?   \n",
       "3         3.0  i have lymphoma what causes cramp after chemo ...   \n",
       "4         4.0  I wonder of new research and testing on macula...   \n",
       "\n",
       "                                              answer dataset_name  \\\n",
       "0  Cardiac amyloidosis is a disorder caused by de...          NaN   \n",
       "1  There is no specific cure for migraine headach...          NaN   \n",
       "2  Before taking pyridoxine,        tell your doc...          NaN   \n",
       "3  Muscle cramps are common and often occur when ...          NaN   \n",
       "4  These resources address the diagnosis or manag...          NaN   \n",
       "\n",
       "  system_prompt Focus (Drug) Question Type Section Title  URL qtype  \n",
       "0           NaN          NaN           NaN           NaN  NaN   NaN  \n",
       "1           NaN          NaN           NaN           NaN  NaN   NaN  \n",
       "2           NaN          NaN           NaN           NaN  NaN   NaN  \n",
       "3           NaN          NaN           NaN           NaN  NaN   NaN  \n",
       "4           NaN          NaN           NaN           NaN  NaN   NaN  "
      ]
     },
     "execution_count": 241,
     "metadata": {},
     "output_type": "execute_result"
    }
   ],
   "source": [
    "merged_df = pd.concat([merged_df, dataset_medquad], ignore_index=True)\n",
    "merged_df.head()"
   ]
  },
  {
   "cell_type": "code",
   "execution_count": 242,
   "id": "d58a518a-f584-4ee5-8c24-e4cd406618ae",
   "metadata": {},
   "outputs": [
    {
     "data": {
      "text/plain": [
       "27929"
      ]
     },
     "execution_count": 242,
     "metadata": {},
     "output_type": "execute_result"
    }
   ],
   "source": [
    "len(merged_df)"
   ]
  },
  {
   "cell_type": "code",
   "execution_count": 243,
   "id": "6f2e3c28-9988-42f8-90da-335ee183dcad",
   "metadata": {},
   "outputs": [],
   "source": [
    "merged_df = merged_df.drop(['Unnamed: 0'], axis=1)\n"
   ]
  },
  {
   "cell_type": "code",
   "execution_count": 244,
   "id": "189d677f-ca0e-4e4f-8208-b81cd765be1d",
   "metadata": {},
   "outputs": [
    {
     "data": {
      "text/html": [
       "<div>\n",
       "<style scoped>\n",
       "    .dataframe tbody tr th:only-of-type {\n",
       "        vertical-align: middle;\n",
       "    }\n",
       "\n",
       "    .dataframe tbody tr th {\n",
       "        vertical-align: top;\n",
       "    }\n",
       "\n",
       "    .dataframe thead th {\n",
       "        text-align: right;\n",
       "    }\n",
       "</style>\n",
       "<table border=\"1\" class=\"dataframe\">\n",
       "  <thead>\n",
       "    <tr style=\"text-align: right;\">\n",
       "      <th></th>\n",
       "      <th>question</th>\n",
       "      <th>answer</th>\n",
       "      <th>dataset_name</th>\n",
       "      <th>system_prompt</th>\n",
       "      <th>Focus (Drug)</th>\n",
       "      <th>Question Type</th>\n",
       "      <th>Section Title</th>\n",
       "      <th>URL</th>\n",
       "      <th>qtype</th>\n",
       "    </tr>\n",
       "  </thead>\n",
       "  <tbody>\n",
       "    <tr>\n",
       "      <th>0</th>\n",
       "      <td>Literature on Cardiac amyloidosis.  Please let...</td>\n",
       "      <td>Cardiac amyloidosis is a disorder caused by de...</td>\n",
       "      <td>NaN</td>\n",
       "      <td>NaN</td>\n",
       "      <td>NaN</td>\n",
       "      <td>NaN</td>\n",
       "      <td>NaN</td>\n",
       "      <td>NaN</td>\n",
       "      <td>NaN</td>\n",
       "    </tr>\n",
       "    <tr>\n",
       "      <th>1</th>\n",
       "      <td>Migraine seems to be a spectrum of conditions ...</td>\n",
       "      <td>There is no specific cure for migraine headach...</td>\n",
       "      <td>NaN</td>\n",
       "      <td>NaN</td>\n",
       "      <td>NaN</td>\n",
       "      <td>NaN</td>\n",
       "      <td>NaN</td>\n",
       "      <td>NaN</td>\n",
       "      <td>NaN</td>\n",
       "    </tr>\n",
       "    <tr>\n",
       "      <th>2</th>\n",
       "      <td>DO I USE PYRIDOXINE TABLETS EVEN IF IM PREGNANT?</td>\n",
       "      <td>Before taking pyridoxine,        tell your doc...</td>\n",
       "      <td>NaN</td>\n",
       "      <td>NaN</td>\n",
       "      <td>NaN</td>\n",
       "      <td>NaN</td>\n",
       "      <td>NaN</td>\n",
       "      <td>NaN</td>\n",
       "      <td>NaN</td>\n",
       "    </tr>\n",
       "    <tr>\n",
       "      <th>3</th>\n",
       "      <td>i have lymphoma what causes cramp after chemo ...</td>\n",
       "      <td>Muscle cramps are common and often occur when ...</td>\n",
       "      <td>NaN</td>\n",
       "      <td>NaN</td>\n",
       "      <td>NaN</td>\n",
       "      <td>NaN</td>\n",
       "      <td>NaN</td>\n",
       "      <td>NaN</td>\n",
       "      <td>NaN</td>\n",
       "    </tr>\n",
       "    <tr>\n",
       "      <th>4</th>\n",
       "      <td>I wonder of new research and testing on macula...</td>\n",
       "      <td>These resources address the diagnosis or manag...</td>\n",
       "      <td>NaN</td>\n",
       "      <td>NaN</td>\n",
       "      <td>NaN</td>\n",
       "      <td>NaN</td>\n",
       "      <td>NaN</td>\n",
       "      <td>NaN</td>\n",
       "      <td>NaN</td>\n",
       "    </tr>\n",
       "  </tbody>\n",
       "</table>\n",
       "</div>"
      ],
      "text/plain": [
       "                                            question  \\\n",
       "0  Literature on Cardiac amyloidosis.  Please let...   \n",
       "1  Migraine seems to be a spectrum of conditions ...   \n",
       "2   DO I USE PYRIDOXINE TABLETS EVEN IF IM PREGNANT?   \n",
       "3  i have lymphoma what causes cramp after chemo ...   \n",
       "4  I wonder of new research and testing on macula...   \n",
       "\n",
       "                                              answer dataset_name  \\\n",
       "0  Cardiac amyloidosis is a disorder caused by de...          NaN   \n",
       "1  There is no specific cure for migraine headach...          NaN   \n",
       "2  Before taking pyridoxine,        tell your doc...          NaN   \n",
       "3  Muscle cramps are common and often occur when ...          NaN   \n",
       "4  These resources address the diagnosis or manag...          NaN   \n",
       "\n",
       "  system_prompt Focus (Drug) Question Type Section Title  URL qtype  \n",
       "0           NaN          NaN           NaN           NaN  NaN   NaN  \n",
       "1           NaN          NaN           NaN           NaN  NaN   NaN  \n",
       "2           NaN          NaN           NaN           NaN  NaN   NaN  \n",
       "3           NaN          NaN           NaN           NaN  NaN   NaN  \n",
       "4           NaN          NaN           NaN           NaN  NaN   NaN  "
      ]
     },
     "execution_count": 244,
     "metadata": {},
     "output_type": "execute_result"
    }
   ],
   "source": [
    "merged_df.head()"
   ]
  },
  {
   "cell_type": "code",
   "execution_count": 245,
   "id": "3ee236d6-af22-4926-9c36-b9f6072f53bc",
   "metadata": {},
   "outputs": [],
   "source": [
    "# merged_df.to_csv(\"gemini_fine_tune_dataset.csv\")"
   ]
  },
  {
   "cell_type": "code",
   "execution_count": 246,
   "id": "62794d8d-726c-4167-87f9-34eb810cf11d",
   "metadata": {},
   "outputs": [],
   "source": [
    "very_long = 0\n",
    "null_data = 0\n",
    "for index, data in merged_df.iterrows():\n",
    "    if  isinstance(data[\"answer\"], str) == True and len(data[\"answer\"]) > 5000 :\n",
    "        very_long += 1\n",
    "        # merged_df.loc[index, \"answer\"] = data[\"answer\"][:5000]\n",
    "        merged_df = merged_df.drop(index)\n",
    "    if isinstance(data[\"answer\"], str) == False or isinstance(data[\"question\"], str) == False:\n",
    "        merged_df = merged_df.drop(index)\n",
    "        null_data +=1\n",
    "        \n",
    "        "
   ]
  },
  {
   "cell_type": "code",
   "execution_count": 247,
   "id": "92e8c6c4-c344-4f07-bf4c-052e466cf706",
   "metadata": {},
   "outputs": [
    {
     "name": "stdout",
     "output_type": "stream",
     "text": [
      "452\n",
      "6\n"
     ]
    }
   ],
   "source": [
    "print(very_long)\n",
    "print(null_data)"
   ]
  },
  {
   "cell_type": "code",
   "execution_count": 248,
   "id": "ec171a37-d28f-4758-b2d1-682e4f7e1ab6",
   "metadata": {},
   "outputs": [
    {
     "name": "stdout",
     "output_type": "stream",
     "text": [
      "27471\n"
     ]
    }
   ],
   "source": [
    "print(len(merged_df))"
   ]
  },
  {
   "cell_type": "code",
   "execution_count": 249,
   "id": "7518b3f3-f7c4-430a-bc36-ebb73db3afb9",
   "metadata": {},
   "outputs": [],
   "source": [
    "merged_df.to_csv(\"gemini_fine_tune_dataset.csv\")"
   ]
  },
  {
   "cell_type": "code",
   "execution_count": null,
   "id": "fedc3723-b49f-45d0-b341-e0dc7eb61fd1",
   "metadata": {},
   "outputs": [],
   "source": []
  },
  {
   "cell_type": "code",
   "execution_count": null,
   "id": "87193e0f-78d3-45bc-b627-043abbd83cfd",
   "metadata": {},
   "outputs": [],
   "source": []
  },
  {
   "cell_type": "code",
   "execution_count": null,
   "id": "4d84380a-8e16-4c6f-92b7-c01836132474",
   "metadata": {},
   "outputs": [],
   "source": []
  }
 ],
 "metadata": {
  "kernelspec": {
   "display_name": "Python 3 (ipykernel)",
   "language": "python",
   "name": "python3"
  },
  "language_info": {
   "codemirror_mode": {
    "name": "ipython",
    "version": 3
   },
   "file_extension": ".py",
   "mimetype": "text/x-python",
   "name": "python",
   "nbconvert_exporter": "python",
   "pygments_lexer": "ipython3",
   "version": "3.12.6"
  }
 },
 "nbformat": 4,
 "nbformat_minor": 5
}
